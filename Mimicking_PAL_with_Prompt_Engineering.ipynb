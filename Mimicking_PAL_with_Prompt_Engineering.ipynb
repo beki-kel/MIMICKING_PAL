{
  "cells": [
    {
      "cell_type": "markdown",
      "metadata": {
        "id": "8ZlQJcpZrp5I"
      },
      "source": [
        "# **IMPORTING AND INSTALLING ESSENTIAL PACKAGES**"
      ]
    },
    {
      "cell_type": "code",
      "execution_count": 88,
      "metadata": {
        "colab": {
          "base_uri": "https://localhost:8080/"
        },
        "collapsed": true,
        "id": "bFDBjVV9OoIj",
        "outputId": "54b637a9-5c2c-439d-8dd8-e4a6605a7cf4"
      },
      "outputs": [
        {
          "name": "stdout",
          "output_type": "stream",
          "text": [
            "Requirement already satisfied: requests in /usr/local/lib/python3.10/dist-packages (2.32.3)\n",
            "Requirement already satisfied: charset-normalizer<4,>=2 in /usr/local/lib/python3.10/dist-packages (from requests) (3.3.2)\n",
            "Requirement already satisfied: idna<4,>=2.5 in /usr/local/lib/python3.10/dist-packages (from requests) (3.10)\n",
            "Requirement already satisfied: urllib3<3,>=1.21.1 in /usr/local/lib/python3.10/dist-packages (from requests) (2.2.3)\n",
            "Requirement already satisfied: certifi>=2017.4.17 in /usr/local/lib/python3.10/dist-packages (from requests) (2024.8.30)\n"
          ]
        }
      ],
      "source": [
        "!pip install requests\n",
        "!pip install -q -U google-generativeai"
      ]
    },
    {
      "cell_type": "code",
      "execution_count": 89,
      "metadata": {
        "id": "qKDvMquEarDJ"
      },
      "outputs": [],
      "source": [
        "from google.colab import userdata\n",
        "import os\n",
        "import IPython\n",
        "import requests\n",
        "import google.generativeai as genai\n",
        "from IPython.core.interactiveshell import InteractiveShell"
      ]
    },
    {
      "cell_type": "markdown",
      "metadata": {
        "id": "uIhLk_E3r3u6"
      },
      "source": [
        "# **INTIALIZING API KEYS**"
      ]
    },
    {
      "cell_type": "code",
      "execution_count": 90,
      "metadata": {
        "id": "CgW60RLEcHKw"
      },
      "outputs": [],
      "source": [
        "EXCHANGE_RATE_API_KEY = userdata.get(\"EXCHANGE_RATE_API_KEY\")\n",
        "GEMINI_API_KEY = userdata.get(\"GEMINI_API_KEY\")"
      ]
    },
    {
      "cell_type": "code",
      "execution_count": 146,
      "metadata": {
        "collapsed": true,
        "id": "8ZA1McH5gmJH"
      },
      "outputs": [],
      "source": [
        "genai.configure(api_key=GEMINI_API_KEY)\n",
        "\n",
        "# Define generation configuration\n",
        "generation_config = genai.types.GenerationConfig(\n",
        "    temperature=0.2,\n",
        "    max_output_tokens=800,\n",
        "    top_p=0.95,\n",
        "    top_k=50\n",
        ")\n",
        "\n",
        "model = genai.GenerativeModel(\"gemini-1.5-flash\")"
      ]
    },
    {
      "cell_type": "code",
      "execution_count": 147,
      "metadata": {
        "colab": {
          "base_uri": "https://localhost:8080/"
        },
        "id": "PwYxMaZ95yFT",
        "outputId": "3e4e7ef1-8b56-4530-dd9d-fdbc3323d91d"
      },
      "outputs": [
        {
          "name": "stdout",
          "output_type": "stream",
          "text": [
            "118.505\n"
          ]
        }
      ],
      "source": [
        "base_currency_1 = \"USD\"\n",
        "base_currency_2 = \"EUR\"\n",
        "target_currency = \"ETB\"\n",
        "\n",
        "# Fetch exchange rates\n",
        "url = f'https://v6.exchangerate-api.com/v6/{EXCHANGE_RATE_API_KEY}/pair/{base_currency_1}/{target_currency}'\n",
        "url1 = f'https://v6.exchangerate-api.com/v6/{EXCHANGE_RATE_API_KEY}/pair/{target_currency}/{base_currency_2}'\n",
        "\n",
        "response = requests.get(url)\n",
        "\n",
        "if response.status_code == 200:\n",
        "    exchange_rates = response.json()['conversion_rate']\n",
        "else:\n",
        "    print(f\"Error: {response.status_code}\")\n",
        "\n",
        "print(exchange_rates)\n"
      ]
    },
    {
      "cell_type": "markdown",
      "metadata": {
        "id": "NZWtK8N1tp2Z"
      },
      "source": [
        "# **FEW SHOT LEARNING: PROVIDNG THE PROMPTS**"
      ]
    },
    {
      "cell_type": "code",
      "execution_count": 156,
      "metadata": {
        "id": "9JCyvFnsSff3"
      },
      "outputs": [],
      "source": [
        "prompts = \"\"\"\n",
        "question: \"I have 20 USD and 500 EUR. I am planning to move to Ethiopia. How much will the money I have be worth in Ethiopia?\"\n",
        "Answer:``` python\n",
        "# Calculate the total worth of money in Ethiopian Birr (ETB) based on amounts in multiple currencies.\n",
        "\n",
        "base_currency_1 = \"USD\"\n",
        "base_currency_2 = \"EUR\"\n",
        "target_currency = \"ETB\"\n",
        "\n",
        "# Fetch exchange rates for USD to ETB and EUR to ETB\n",
        "url_for_usd_to_etb = f'https://v6.exchangerate-api.com/v6/{EXCHANGE_RATE_API_KEY}/pair/{base_currency_1}/{target_currency}'\n",
        "url_for_eur_to_etb = f'https://v6.exchangerate-api.com/v6/{EXCHANGE_RATE_API_KEY}/pair/{base_currency_2}/{target_currency}'\n",
        "\n",
        "response_for_usd_to_etb = requests.get(url_for_usd_to_etb)\n",
        "response_for_eur_to_etb = requests.get(url_for_eur_to_etb)\n",
        "\n",
        "# Check if the responses are successful and extract the conversion rates\n",
        "if response_for_usd_to_etb.status_code == 200:\n",
        "    exchange_rates_for_usd_to_etb = response_for_usd_to_etb.json()['conversion_rate']\n",
        "else:\n",
        "    raise Exception(f\"Error fetching USD to ETB: {response_for_usd_to_etb.status_code}\")\n",
        "\n",
        "if response_for_eur_to_etb.status_code == 200:\n",
        "    exchange_rates_for_eur_to_etb = response_for_eur_to_etb.json()['conversion_rate']\n",
        "else:\n",
        "    raise Exception(f\"Error fetching EUR to ETB: {response_for_eur_to_etb.status_code}\")\n",
        "\n",
        "# Define amounts\n",
        "usd_amount = 20\n",
        "eur_amount = 500\n",
        "\n",
        "# Calculate total in ETB\n",
        "total_in_etb = (usd_amount * exchange_rates_for_usd_to_etb) + (eur_amount * exchange_rates_for_eur_to_etb)\n",
        "\n",
        "# Construct response\n",
        "response = {\n",
        "    \"USD Amount\": usd_amount,\n",
        "    \"EUR Amount\": eur_amount,\n",
        "    \"Exchange Rate (USD to ETB)\": exchange_rates_for_usd_to_etb,\n",
        "    \"Exchange Rate (EUR to ETB)\": exchange_rates_for_eur_to_etb,\n",
        "    \"Total in ETB\": total_in_etb\n",
        "}\n",
        "\n",
        "print(response)\n",
        "print(f\"{response['Total in ETB']} ETB\")```\n",
        "\n",
        "\n",
        "\n",
        "\n",
        "\n",
        "question: \"I have 50 USD, 300 EUR, and 100 GBP. I am planning to move to Japan. How much will this money be worth there, considering the current exchange rates?\"\n",
        "Answer:```python\n",
        "# Calculate the total worth of money in Japanese Yen (JPY) based on amounts in multiple currencies.\n",
        "\n",
        "base_currency_1 = \"USD\"\n",
        "base_currency_2 = \"EUR\"\n",
        "base_currency_3 = \"GBP\"\n",
        "target_currency = \"JPY\"\n",
        "\n",
        "# Fetch exchange rates for USD, EUR, and GBP to JPY\n",
        "url_for_usd = f'https://v6.exchangerate-api.com/v6/{EXCHANGE_RATE_API_KEY}/pair/{base_currency_1}/{target_currency}'\n",
        "url_for_eur = f'https://v6.exchangerate-api.com/v6/{EXCHANGE_RATE_API_KEY}/pair/{base_currency_2}/{target_currency}'\n",
        "url_for_gbp = f'https://v6.exchangerate-api.com/v6/{EXCHANGE_RATE_API_KEY}/pair/{base_currency_3}/{target_currency}'\n",
        "\n",
        "response_for_usd = requests.get(url_for_usd)\n",
        "response_for_eur = requests.get(url_for_eur)\n",
        "response_for_gbp = requests.get(url_for_gbp)\n",
        "\n",
        "# Check if the responses are successful and extract the conversion rates\n",
        "if response_for_usd.status_code == 200:\n",
        "    usd_to_jpy = response_for_usd.json()['conversion_rate']\n",
        "else:\n",
        "    raise Exception(f\"Error fetching USD to JPY: {response_for_usd.status_code}\")\n",
        "\n",
        "if response_for_eur.status_code == 200:\n",
        "    eur_to_jpy = response_for_eur.json()['conversion_rate']\n",
        "else:\n",
        "    raise Exception(f\"Error fetching EUR to JPY: {response_for_eur.status_code}\")\n",
        "\n",
        "if response_for_gbp.status_code == 200:\n",
        "    gbp_to_jpy = response_for_gbp.json()['conversion_rate']\n",
        "else:\n",
        "    raise Exception(f\"Error fetching GBP to JPY: {response_for_gbp.status_code}\")\n",
        "\n",
        "# Define amounts\n",
        "usd_amount = 50\n",
        "eur_amount = 300\n",
        "gbp_amount = 100\n",
        "\n",
        "# Calculate total in JPY\n",
        "total_in_jpy = (usd_amount * usd_to_jpy) + (eur_amount * eur_to_jpy) + (gbp_amount * gbp_to_jpy)\n",
        "\n",
        "# Construct response\n",
        "response = {\n",
        "    \"USD Amount\": usd_amount,\n",
        "    \"EUR Amount\": eur_amount,\n",
        "    \"GBP Amount\": gbp_amount,\n",
        "    \"Exchange Rate (USD to JPY)\": usd_to_jpy,\n",
        "    \"Exchange Rate (EUR to JPY)\": eur_to_jpy,\n",
        "    \"Exchange Rate (GBP to JPY)\": gbp_to_jpy,\n",
        "    \"Total in JPY\": total_in_jpy\n",
        "}\n",
        "\n",
        "print(response)\n",
        "print(f\"{response['Total in JPY']} JPY\")```\n",
        "\n",
        "\n",
        "\n",
        "\n",
        "question: \"I have 1000 in Australia’s currency, 400 in Canada’s currency, and 1500 in Japan’s. After moving to Ethiopia, I want to know the total worth of my money in ETB, considering the current exchange rates?\"\n",
        "Answer:```python\n",
        "# Calculate the total worth of money in Ethiopian Birr (ETB) based on amounts in multiple currencies.\n",
        "\n",
        "base_currency_1 = \"AUD\"\n",
        "base_currency_2 = \"CAD\"\n",
        "base_currency_3 = \"JPY\"\n",
        "target_currency = \"ETB\"\n",
        "\n",
        "# Define amounts\n",
        "aud_amount = 1000  # Amount in AUD\n",
        "cad_amount = 400   # Amount in CAD\n",
        "jpy_amount = 1500  # Amount in JPY\n",
        "\n",
        "# Fetch exchange rates for AUD, CAD, and JPY to ETB\n",
        "url_for_aud = f'https://v6.exchangerate-api.com/v6/{EXCHANGE_RATE_API_KEY}/pair/{base_currency_1}/{target_currency}'\n",
        "url_for_cad = f'https://v6.exchangerate-api.com/v6/{EXCHANGE_RATE_API_KEY}/pair/{base_currency_2}/{target_currency}'\n",
        "url_for_jpy = f'https://v6.exchangerate-api.com/v6/{EXCHANGE_RATE_API_KEY}/pair/{base_currency_3}/{target_currency}'\n",
        "\n",
        "response_for_aud = requests.get(url_for_aud)\n",
        "response_for_cad = requests.get(url_for_cad)\n",
        "response_for_jpy = requests.get(url_for_jpy)\n",
        "\n",
        "# Check if the responses are successful and extract the conversion rates\n",
        "if response_for_aud.status_code == 200:\n",
        "    aud_to_etb = response_for_aud.json()['conversion_rate']\n",
        "else:\n",
        "    raise Exception(f\"Error fetching AUD to ETB: {response_for_aud.status_code}\")\n",
        "\n",
        "if response_for_cad.status_code == 200:\n",
        "    cad_to_etb = response_for_cad.json()['conversion_rate']\n",
        "else:\n",
        "    raise Exception(f\"Error fetching CAD to ETB: {response_for_cad.status_code}\")\n",
        "\n",
        "if response_for_jpy.status_code == 200:\n",
        "    jpy_to_etb = response_for_jpy.json()['conversion_rate']\n",
        "else:\n",
        "    raise Exception(f\"Error fetching JPY to ETB: {response_for_jpy.status_code}\")\n",
        "\n",
        "# Calculate total in ETB\n",
        "total_in_etb = (aud_amount * aud_to_etb) + (cad_amount * cad_to_etb) + (jpy_amount * jpy_to_etb)\n",
        "\n",
        "# Construct response\n",
        "response = {\n",
        "    \"AUD Amount\": aud_amount,\n",
        "    \"CAD Amount\": cad_amount,\n",
        "    \"JPY Amount\": jpy_amount,\n",
        "    \"Exchange Rate (AUD to ETB)\": aud_to_etb,\n",
        "    \"Exchange Rate (CAD to ETB)\": cad_to_etb,\n",
        "    \"Exchange Rate (JPY to ETB)\": jpy_to_etb,\n",
        "    \"Total in ETB\": total_in_etb\n",
        "}\n",
        "\n",
        "print(response)\n",
        "print(f\"{response['Total in ETB']} ETB\")```\n",
        "\n",
        "\n",
        "\n",
        "\n",
        "\n",
        "question: \"I have savings in Switzerland, India, and South Africa. I plan to relocate to Ethiopia soon and would like to know how much my savings would be worth there. I have 500 in Switzerland, 70,000 in India, and 2,500 in South Africa. Could you calculate the total value of my savings in Ethiopian Birr, given the current exchange rates?\"\n",
        "Answer:\n",
        "\"\"\""
      ]
    },
    {
      "cell_type": "markdown",
      "metadata": {
        "id": "hwOej-cyt-xO"
      },
      "source": [
        "# **LLM RESPONSE FOR THE PROMPT**"
      ]
    },
    {
      "cell_type": "code",
      "execution_count": 159,
      "metadata": {
        "colab": {
          "base_uri": "https://localhost:8080/",
          "height": 1000
        },
        "collapsed": true,
        "id": "-raw7v5DK3bq",
        "outputId": "df7b6ab9-d11c-4b1d-b03a-0ab8143ca7b1"
      },
      "outputs": [
        {
          "name": "stdout",
          "output_type": "stream",
          "text": [
            "```python\n",
            "# Calculate the total worth of money in Ethiopian Birr (ETB) based on amounts in multiple currencies.\n",
            "\n",
            "base_currency_1 = \"CHF\"  # Swiss Franc\n",
            "base_currency_2 = \"INR\"  # Indian Rupee\n",
            "base_currency_3 = \"ZAR\"  # South African Rand\n",
            "target_currency = \"ETB\"\n",
            "\n",
            "# Define amounts\n",
            "chf_amount = 500  # Amount in CHF\n",
            "inr_amount = 70000  # Amount in INR\n",
            "zar_amount = 2500  # Amount in ZAR\n",
            "\n",
            "# Fetch exchange rates for CHF, INR, and ZAR to ETB\n",
            "url_for_chf = f'https://v6.exchangerate-api.com/v6/{EXCHANGE_RATE_API_KEY}/pair/{base_currency_1}/{target_currency}'\n",
            "url_for_inr = f'https://v6.exchangerate-api.com/v6/{EXCHANGE_RATE_API_KEY}/pair/{base_currency_2}/{target_currency}'\n",
            "url_for_zar = f'https://v6.exchangerate-api.com/v6/{EXCHANGE_RATE_API_KEY}/pair/{base_currency_3}/{target_currency}'\n",
            "\n",
            "response_for_chf = requests.get(url_for_chf)\n",
            "response_for_inr = requests.get(url_for_inr)\n",
            "response_for_zar = requests.get(url_for_zar)\n",
            "\n",
            "# Check if the responses are successful and extract the conversion rates\n",
            "if response_for_chf.status_code == 200:\n",
            "    chf_to_etb = response_for_chf.json()['conversion_rate']\n",
            "else:\n",
            "    raise Exception(f\"Error fetching CHF to ETB: {response_for_chf.status_code}\")\n",
            "\n",
            "if response_for_inr.status_code == 200:\n",
            "    inr_to_etb = response_for_inr.json()['conversion_rate']\n",
            "else:\n",
            "    raise Exception(f\"Error fetching INR to ETB: {response_for_inr.status_code}\")\n",
            "\n",
            "if response_for_zar.status_code == 200:\n",
            "    zar_to_etb = response_for_zar.json()['conversion_rate']\n",
            "else:\n",
            "    raise Exception(f\"Error fetching ZAR to ETB: {response_for_zar.status_code}\")\n",
            "\n",
            "# Calculate total in ETB\n",
            "total_in_etb = (chf_amount * chf_to_etb) + (inr_amount * inr_to_etb) + (zar_amount * zar_to_etb)\n",
            "\n",
            "# Construct response\n",
            "response = {\n",
            "    \"CHF Amount\": chf_amount,\n",
            "    \"INR Amount\": inr_amount,\n",
            "    \"ZAR Amount\": zar_amount,\n",
            "    \"Exchange Rate (CHF to ETB)\": chf_to_etb,\n",
            "    \"Exchange Rate (INR to ETB)\": inr_to_etb,\n",
            "    \"Exchange Rate (ZAR to ETB)\": zar_to_etb,\n",
            "    \"Total in ETB\": total_in_etb\n",
            "}\n",
            "\n",
            "print(response)\n",
            "print(f\"{response['Total in ETB']} ETB\")\n",
            "```\n"
          ]
        }
      ],
      "source": [
        "response = model.generate_content(\n",
        "    prompts,\n",
        "    generation_config=generation_config\n",
        ")\n",
        "\n",
        "Intermediate_response = response.text\n",
        "\n",
        "print(Intermediate_response)"
      ]
    },
    {
      "cell_type": "code",
      "execution_count": 160,
      "metadata": {
        "colab": {
          "base_uri": "https://localhost:8080/"
        },
        "id": "r5dxrWaJSvHT",
        "outputId": "7a684866-1648-4729-f2ef-eef93fe31518"
      },
      "outputs": [
        {
          "name": "stdout",
          "output_type": "stream",
          "text": [
            "{'CHF Amount': 500, 'INR Amount': 70000, 'ZAR Amount': 2500, 'Exchange Rate (CHF to ETB)': 142.1696, 'Exchange Rate (INR to ETB)': 1.446, 'Exchange Rate (ZAR to ETB)': 6.9555, 'Total in ETB': 189693.55}\n",
            "189693.55 ETB\n"
          ]
        }
      ],
      "source": [
        "cleaned_code =Intermediate_response.replace('```python', '').replace('```', '').strip()\n",
        "exec(cleaned_code)"
      ]
    }
  ],
  "metadata": {
    "colab": {
      "collapsed_sections": [
        "8ZlQJcpZrp5I",
        "uIhLk_E3r3u6"
      ],
      "provenance": []
    },
    "kernelspec": {
      "display_name": "Python 3",
      "name": "python3"
    },
    "language_info": {
      "name": "python"
    }
  },
  "nbformat": 4,
  "nbformat_minor": 0
}
